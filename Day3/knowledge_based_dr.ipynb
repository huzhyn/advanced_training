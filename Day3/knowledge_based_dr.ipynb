{
  "nbformat": 4,
  "nbformat_minor": 0,
  "metadata": {
    "colab": {
      "name": "knowledge_based_dr.ipynb",
      "provenance": [],
      "collapsed_sections": [],
      "toc_visible": true
    },
    "kernelspec": {
      "name": "python3",
      "display_name": "Python 3"
    }
  },
  "cells": [
    {
      "cell_type": "markdown",
      "metadata": {
        "id": "vUnxi-EV-p8l"
      },
      "source": [
        "Author : Erkhembayar J.\n",
        "\n",
        "Purpose : Advanced Training for AI Drug Discovery (Educational Purpose)\n",
        "\n",
        "Link :\n",
        "\n",
        "Korea AI Center for Drug Discovery and Development (KAICD) 2020"
      ]
    },
    {
      "cell_type": "markdown",
      "metadata": {
        "id": "055Pln7BHI9B"
      },
      "source": [
        "# **Coding Session Environment Setting**\n",
        "---"
      ]
    },
    {
      "cell_type": "code",
      "metadata": {
        "id": "XDvpGnkAHK9e",
        "colab": {
          "base_uri": "https://localhost:8080/"
        },
        "outputId": "fc6d565f-e446-4957-f56d-b2b998a43710"
      },
      "source": [
        "!pip install dgl==0.4.3\n",
        "!pip install dglke"
      ],
      "execution_count": 40,
      "outputs": [
        {
          "output_type": "stream",
          "text": [
            "Requirement already satisfied: dgl==0.4.3 in /usr/local/lib/python3.6/dist-packages (0.4.3)\n",
            "Requirement already satisfied: networkx>=2.1 in /usr/local/lib/python3.6/dist-packages (from dgl==0.4.3) (2.5)\n",
            "Requirement already satisfied: scipy>=1.1.0 in /usr/local/lib/python3.6/dist-packages (from dgl==0.4.3) (1.4.1)\n",
            "Requirement already satisfied: requests>=2.19.0 in /usr/local/lib/python3.6/dist-packages (from dgl==0.4.3) (2.23.0)\n",
            "Requirement already satisfied: numpy>=1.14.0 in /usr/local/lib/python3.6/dist-packages (from dgl==0.4.3) (1.18.5)\n",
            "Requirement already satisfied: decorator>=4.3.0 in /usr/local/lib/python3.6/dist-packages (from networkx>=2.1->dgl==0.4.3) (4.4.2)\n",
            "Requirement already satisfied: chardet<4,>=3.0.2 in /usr/local/lib/python3.6/dist-packages (from requests>=2.19.0->dgl==0.4.3) (3.0.4)\n",
            "Requirement already satisfied: idna<3,>=2.5 in /usr/local/lib/python3.6/dist-packages (from requests>=2.19.0->dgl==0.4.3) (2.10)\n",
            "Requirement already satisfied: urllib3!=1.25.0,!=1.25.1,<1.26,>=1.21.1 in /usr/local/lib/python3.6/dist-packages (from requests>=2.19.0->dgl==0.4.3) (1.24.3)\n",
            "Requirement already satisfied: certifi>=2017.4.17 in /usr/local/lib/python3.6/dist-packages (from requests>=2.19.0->dgl==0.4.3) (2020.11.8)\n",
            "Requirement already satisfied: dglke in /usr/local/lib/python3.6/dist-packages (0.1.1)\n",
            "Requirement already satisfied: setuptools in /usr/local/lib/python3.6/dist-packages (from dglke) (50.3.2)\n",
            "Requirement already satisfied: numpy in /usr/local/lib/python3.6/dist-packages (from dglke) (1.18.5)\n"
          ],
          "name": "stdout"
        }
      ]
    },
    {
      "cell_type": "markdown",
      "metadata": {
        "id": "bZ-QUCbnFHdD"
      },
      "source": [
        "# **WHAT WILL YOU LEARN?**"
      ]
    },
    {
      "cell_type": "markdown",
      "metadata": {
        "id": "oFWXOFZtFYE6"
      },
      "source": [
        "<p align=\"center\">\n",
        "  <img src=\"https://drive.google.com/uc?id=1mQZ0EwwEL_ioYLUpuvnw02E4CLe6jM-Y\" />\n",
        "</p>\n"
      ]
    },
    {
      "cell_type": "markdown",
      "metadata": {
        "id": "K_6dsIUAgRkN"
      },
      "source": [
        ""
      ]
    },
    {
      "cell_type": "markdown",
      "metadata": {
        "id": "Q8sw7oUcm_nZ"
      },
      "source": [
        "# 1) **UNDERSTANDING KNOWLEDGE GRAPH**"
      ]
    },
    {
      "cell_type": "markdown",
      "metadata": {
        "id": "K5QqDzgunNAL"
      },
      "source": [
        "## **Data ETL (Extraction, Transform, Load)**\n",
        "----"
      ]
    },
    {
      "cell_type": "markdown",
      "metadata": {
        "id": "8lIVVO_6nE2B"
      },
      "source": [
        "### Download DGL-KE DR Knowledge Graph Database (DRKG)\n",
        "\n",
        "\n",
        "\n"
      ]
    },
    {
      "cell_type": "code",
      "metadata": {
        "id": "c-aqwG1gfVv8",
        "colab": {
          "base_uri": "https://localhost:8080/"
        },
        "outputId": "5ca6e183-1419-49e7-fe0e-87a147536e8d"
      },
      "source": [
        "!wget https://dgl-data.s3-us-west-2.amazonaws.com/dataset/DRKG/drkg.tar.gz"
      ],
      "execution_count": 41,
      "outputs": [
        {
          "output_type": "stream",
          "text": [
            "--2020-11-24 17:54:01--  https://dgl-data.s3-us-west-2.amazonaws.com/dataset/DRKG/drkg.tar.gz\n",
            "Resolving dgl-data.s3-us-west-2.amazonaws.com (dgl-data.s3-us-west-2.amazonaws.com)... 52.218.152.97\n",
            "Connecting to dgl-data.s3-us-west-2.amazonaws.com (dgl-data.s3-us-west-2.amazonaws.com)|52.218.152.97|:443... connected.\n",
            "HTTP request sent, awaiting response... 200 OK\n",
            "Length: 216650245 (207M) [application/x-tar]\n",
            "Saving to: ‘drkg.tar.gz.1’\n",
            "\n",
            "drkg.tar.gz.1       100%[===================>] 206.61M  22.4MB/s    in 10s     \n",
            "\n",
            "2020-11-24 17:54:12 (20.2 MB/s) - ‘drkg.tar.gz.1’ saved [216650245/216650245]\n",
            "\n"
          ],
          "name": "stdout"
        }
      ]
    },
    {
      "cell_type": "code",
      "metadata": {
        "id": "rc0yHOVDfct8",
        "colab": {
          "base_uri": "https://localhost:8080/"
        },
        "outputId": "32c23174-b383-44b4-8a8a-ec85593fec84"
      },
      "source": [
        "!ls"
      ],
      "execution_count": 42,
      "outputs": [
        {
          "output_type": "stream",
          "text": [
            "coronavirus-related-host-genes.tsv  drkg.tar.gz.1   infer_drug.tsv\n",
            "COVID19_clinical_trial_drugs.tsv    drkg.tsv\t    relation_glossary.tsv\n",
            "covid19-host-genes.tsv\t\t    embed\t    sample_data\n",
            "drkg.tar.gz\t\t\t    entity2src.tsv\n"
          ],
          "name": "stdout"
        }
      ]
    },
    {
      "cell_type": "code",
      "metadata": {
        "id": "2EOxd7n5ff07",
        "colab": {
          "base_uri": "https://localhost:8080/"
        },
        "outputId": "0ec2a63c-4021-4ab1-8d8d-fb19c2c27def"
      },
      "source": [
        "!tar xvzf drkg.tar.gz"
      ],
      "execution_count": 43,
      "outputs": [
        {
          "output_type": "stream",
          "text": [
            "._drkg.tsv\n",
            "drkg.tsv\n",
            "._embed\n",
            "embed/\n",
            "embed/DRKG_TransE_l2_relation.npy\n",
            "embed/._relations.tsv\n",
            "embed/relations.tsv\n",
            "embed/._entities.tsv\n",
            "embed/entities.tsv\n",
            "embed/Readme.md\n",
            "embed/mol_edgepred.npy\n",
            "embed/mol_infomax.npy\n",
            "embed/mol_masking.npy\n",
            "embed/mol_contextpred.npy\n",
            "embed/DRKG_TransE_l2_entity.npy\n",
            "._entity2src.tsv\n",
            "entity2src.tsv\n",
            "._relation_glossary.tsv\n",
            "relation_glossary.tsv\n"
          ],
          "name": "stdout"
        }
      ]
    },
    {
      "cell_type": "code",
      "metadata": {
        "id": "YKO4tDvJflc-",
        "colab": {
          "base_uri": "https://localhost:8080/"
        },
        "outputId": "1a9b028b-d35c-4739-8ef5-4a8e87c04b9e"
      },
      "source": [
        "!ls"
      ],
      "execution_count": 44,
      "outputs": [
        {
          "output_type": "stream",
          "text": [
            "coronavirus-related-host-genes.tsv  drkg.tar.gz.1   infer_drug.tsv\n",
            "COVID19_clinical_trial_drugs.tsv    drkg.tsv\t    relation_glossary.tsv\n",
            "covid19-host-genes.tsv\t\t    embed\t    sample_data\n",
            "drkg.tar.gz\t\t\t    entity2src.tsv\n"
          ],
          "name": "stdout"
        }
      ]
    },
    {
      "cell_type": "markdown",
      "metadata": {
        "id": "rur3PfTQnw86"
      },
      "source": [
        "## About DRKG\n",
        "---\n",
        "* released by amazon (Amazon Shanhai AI Lab)\n",
        "* 97,238 entities (compound , target, disease etc.)\n",
        "* 5,874,261 triplets\n",
        "* 107 types of relations"
      ]
    },
    {
      "cell_type": "markdown",
      "metadata": {
        "id": "rv0qtt5YgPVX"
      },
      "source": [
        "<p align=\"center\">\n",
        "  <img src=\"https://drive.google.com/uc?id=1_g9VNC1k8AXkaD6bIn0yIpV5Qh8HSse0\" />\n",
        "</p>\n",
        "\n"
      ]
    },
    {
      "cell_type": "code",
      "metadata": {
        "id": "KhEVyKqMmylI",
        "colab": {
          "base_uri": "https://localhost:8080/"
        },
        "outputId": "00609717-254d-4bb1-e181-e2cf9b0b8870"
      },
      "source": [
        "!ls"
      ],
      "execution_count": null,
      "outputs": [
        {
          "output_type": "stream",
          "text": [
            "drkg.tar.gz  embed\t     relation_glossary.tsv\n",
            "drkg.tsv     entity2src.tsv  sample_data\n"
          ],
          "name": "stdout"
        }
      ]
    },
    {
      "cell_type": "markdown",
      "metadata": {
        "id": "CmgihJkTlwH2"
      },
      "source": [
        "<p align=\"center\">\n",
        "  <h1>Knowledge Graph<h1>\n",
        "  <img src=\"https://drive.google.com/uc?id=1lkzFHJJqMxpRLilatDgsildFRMg29N26\" />\n",
        "</p>\n",
        "---\n",
        "\n",
        "* CONCEPTS\n",
        "    * **TRIPLETS** (ENTITY--RELATION---ENTITY) => ${h, r, t}$\n",
        "        * Each triplet contains one connection (relation)\n",
        "    * **RELATIONSHIP**\n",
        "        * ontology of the KG\n"
      ]
    },
    {
      "cell_type": "markdown",
      "metadata": {
        "id": "3QFTcBcwo7-R"
      },
      "source": [
        "## How to read (understand) biomedical knowledge graphs ?"
      ]
    },
    {
      "cell_type": "markdown",
      "metadata": {
        "id": "4pvL6AXzhuS6"
      },
      "source": [
        ""
      ]
    },
    {
      "cell_type": "code",
      "metadata": {
        "id": "UCKTiZNxgLX6",
        "colab": {
          "base_uri": "https://localhost:8080/"
        },
        "outputId": "3e38e8b8-dceb-4849-95ae-71398151deb4"
      },
      "source": [
        "from enum import Enum, unique\n",
        "\n",
        "## Define Triplet\n",
        "\n",
        "@unique\n",
        "class TripletNames(Enum):\n",
        "\n",
        "    HEAD = 'HEAD'\n",
        "    RELATION = 'RELATION'\n",
        "    TAIL = 'TAIL'\n",
        "\n",
        "col_names = [name.value for name in TripletNames]\n",
        "col_names"
      ],
      "execution_count": 45,
      "outputs": [
        {
          "output_type": "execute_result",
          "data": {
            "text/plain": [
              "['HEAD', 'RELATION', 'TAIL']"
            ]
          },
          "metadata": {
            "tags": []
          },
          "execution_count": 45
        }
      ]
    },
    {
      "cell_type": "code",
      "metadata": {
        "id": "OC8lE64Pio1y",
        "colab": {
          "base_uri": "https://localhost:8080/"
        },
        "outputId": "968db4d3-1464-4e87-e459-09efc0416f72"
      },
      "source": [
        "!ls"
      ],
      "execution_count": 46,
      "outputs": [
        {
          "output_type": "stream",
          "text": [
            "coronavirus-related-host-genes.tsv  drkg.tar.gz.1   infer_drug.tsv\n",
            "COVID19_clinical_trial_drugs.tsv    drkg.tsv\t    relation_glossary.tsv\n",
            "covid19-host-genes.tsv\t\t    embed\t    sample_data\n",
            "drkg.tar.gz\t\t\t    entity2src.tsv\n"
          ],
          "name": "stdout"
        }
      ]
    },
    {
      "cell_type": "code",
      "metadata": {
        "id": "PHO5RnbPfoVI"
      },
      "source": [
        "import pandas as pd \n",
        "\n",
        "_file = 'drkg.tsv'\n",
        "_df = pd.read_csv('drkg.tsv', sep='\\t', names= col_names)\n"
      ],
      "execution_count": 47,
      "outputs": []
    },
    {
      "cell_type": "code",
      "metadata": {
        "id": "cVW5_1bwf89N",
        "colab": {
          "base_uri": "https://localhost:8080/",
          "height": 204
        },
        "outputId": "c3d04783-2990-4e57-bae8-2e60ae638ff9"
      },
      "source": [
        "_df.head()"
      ],
      "execution_count": 48,
      "outputs": [
        {
          "output_type": "execute_result",
          "data": {
            "text/html": [
              "<div>\n",
              "<style scoped>\n",
              "    .dataframe tbody tr th:only-of-type {\n",
              "        vertical-align: middle;\n",
              "    }\n",
              "\n",
              "    .dataframe tbody tr th {\n",
              "        vertical-align: top;\n",
              "    }\n",
              "\n",
              "    .dataframe thead th {\n",
              "        text-align: right;\n",
              "    }\n",
              "</style>\n",
              "<table border=\"1\" class=\"dataframe\">\n",
              "  <thead>\n",
              "    <tr style=\"text-align: right;\">\n",
              "      <th></th>\n",
              "      <th>HEAD</th>\n",
              "      <th>RELATION</th>\n",
              "      <th>TAIL</th>\n",
              "    </tr>\n",
              "  </thead>\n",
              "  <tbody>\n",
              "    <tr>\n",
              "      <th>0</th>\n",
              "      <td>Gene::2157</td>\n",
              "      <td>bioarx::HumGenHumGen:Gene:Gene</td>\n",
              "      <td>Gene::2157</td>\n",
              "    </tr>\n",
              "    <tr>\n",
              "      <th>1</th>\n",
              "      <td>Gene::2157</td>\n",
              "      <td>bioarx::HumGenHumGen:Gene:Gene</td>\n",
              "      <td>Gene::5264</td>\n",
              "    </tr>\n",
              "    <tr>\n",
              "      <th>2</th>\n",
              "      <td>Gene::2157</td>\n",
              "      <td>bioarx::HumGenHumGen:Gene:Gene</td>\n",
              "      <td>Gene::2158</td>\n",
              "    </tr>\n",
              "    <tr>\n",
              "      <th>3</th>\n",
              "      <td>Gene::2157</td>\n",
              "      <td>bioarx::HumGenHumGen:Gene:Gene</td>\n",
              "      <td>Gene::3309</td>\n",
              "    </tr>\n",
              "    <tr>\n",
              "      <th>4</th>\n",
              "      <td>Gene::2157</td>\n",
              "      <td>bioarx::HumGenHumGen:Gene:Gene</td>\n",
              "      <td>Gene::28912</td>\n",
              "    </tr>\n",
              "  </tbody>\n",
              "</table>\n",
              "</div>"
            ],
            "text/plain": [
              "         HEAD                        RELATION         TAIL\n",
              "0  Gene::2157  bioarx::HumGenHumGen:Gene:Gene   Gene::2157\n",
              "1  Gene::2157  bioarx::HumGenHumGen:Gene:Gene   Gene::5264\n",
              "2  Gene::2157  bioarx::HumGenHumGen:Gene:Gene   Gene::2158\n",
              "3  Gene::2157  bioarx::HumGenHumGen:Gene:Gene   Gene::3309\n",
              "4  Gene::2157  bioarx::HumGenHumGen:Gene:Gene  Gene::28912"
            ]
          },
          "metadata": {
            "tags": []
          },
          "execution_count": 48
        }
      ]
    },
    {
      "cell_type": "markdown",
      "metadata": {
        "id": "f72LkUbSj_nm"
      },
      "source": [
        "### **TRIPLETs**"
      ]
    },
    {
      "cell_type": "markdown",
      "metadata": {
        "id": "2oEhteW3kFPe"
      },
      "source": [
        "<p align=\"center\">\n",
        "  <img src=\"https://drive.google.com/uc?id=1FCJRiCU-kGmf3BTwZQZyhLggO-7JgXKK\" />\n",
        "</p>"
      ]
    },
    {
      "cell_type": "code",
      "metadata": {
        "id": "TZcNC-pZgFXW",
        "colab": {
          "base_uri": "https://localhost:8080/"
        },
        "outputId": "19c84c41-888f-43b6-dc2d-4d98a3476bfb"
      },
      "source": [
        "# number of triplets and relationships in training Knowledge Graph\n",
        "print(f'# of triplets: {_df.shape[0]}')\n",
        "print(f'# of relation: {len(_df[TripletNames.RELATION.value].unique())}')\n"
      ],
      "execution_count": 51,
      "outputs": [
        {
          "output_type": "stream",
          "text": [
            "# of triplets: 5874261\n",
            "# of relation: 107\n"
          ],
          "name": "stdout"
        }
      ]
    },
    {
      "cell_type": "markdown",
      "metadata": {
        "id": "-4jeduG7mfsP"
      },
      "source": [
        "### **RELATIONs**\n",
        "* Relation (ontologies) represent the backbone of the formal semantics of a knowledge graph.\n",
        "\n"
      ]
    },
    {
      "cell_type": "code",
      "metadata": {
        "id": "JIDMkIcbr3Bl",
        "colab": {
          "base_uri": "https://localhost:8080/"
        },
        "outputId": "0dc602d1-9089-4817-a5ca-42c3ecb5d5b7"
      },
      "source": [
        "relation_types = _df[TripletNames.RELATION.value].unique()\n",
        "relation_types"
      ],
      "execution_count": 52,
      "outputs": [
        {
          "output_type": "execute_result",
          "data": {
            "text/plain": [
              "array(['bioarx::HumGenHumGen:Gene:Gene', 'bioarx::VirGenHumGen:Gene:Gene',\n",
              "       'bioarx::DrugVirGen:Compound:Gene',\n",
              "       'bioarx::DrugHumGen:Compound:Gene',\n",
              "       'bioarx::Covid2_acc_host_gene::Disease:Gene',\n",
              "       'bioarx::Coronavirus_ass_host_gene::Disease:Gene',\n",
              "       'DGIDB::INHIBITOR::Gene:Compound',\n",
              "       'DGIDB::ANTAGONIST::Gene:Compound', 'DGIDB::OTHER::Gene:Compound',\n",
              "       'DGIDB::AGONIST::Gene:Compound', 'DGIDB::BINDER::Gene:Compound',\n",
              "       'DGIDB::MODULATOR::Gene:Compound', 'DGIDB::BLOCKER::Gene:Compound',\n",
              "       'DGIDB::CHANNEL BLOCKER::Gene:Compound',\n",
              "       'DGIDB::ANTIBODY::Gene:Compound',\n",
              "       'DGIDB::POSITIVE ALLOSTERIC MODULATOR::Gene:Compound',\n",
              "       'DGIDB::ALLOSTERIC MODULATOR::Gene:Compound',\n",
              "       'DGIDB::ACTIVATOR::Gene:Compound',\n",
              "       'DGIDB::PARTIAL AGONIST::Gene:Compound',\n",
              "       'DRUGBANK::x-atc::Compound:Atc',\n",
              "       'DRUGBANK::ddi-interactor-in::Compound:Compound',\n",
              "       'DRUGBANK::target::Compound:Gene',\n",
              "       'DRUGBANK::enzyme::Compound:Gene',\n",
              "       'DRUGBANK::carrier::Compound:Gene',\n",
              "       'DRUGBANK::treats::Compound:Disease', 'GNBR::E::Compound:Gene',\n",
              "       'GNBR::A+::Compound:Gene', 'GNBR::N::Compound:Gene',\n",
              "       'GNBR::K::Compound:Gene', 'GNBR::A-::Compound:Gene',\n",
              "       'GNBR::E+::Compound:Gene', 'GNBR::B::Compound:Gene',\n",
              "       'GNBR::E-::Compound:Gene', 'GNBR::O::Compound:Gene',\n",
              "       'GNBR::Z::Compound:Gene', 'GNBR::T::Compound:Disease',\n",
              "       'GNBR::C::Compound:Disease', 'GNBR::Sa::Compound:Disease',\n",
              "       'GNBR::Pa::Compound:Disease', 'GNBR::Mp::Compound:Disease',\n",
              "       'GNBR::Pr::Compound:Disease', 'GNBR::J::Compound:Disease',\n",
              "       'GNBR::L::Gene:Disease', 'GNBR::U::Gene:Disease',\n",
              "       'GNBR::Y::Gene:Disease', 'GNBR::J::Gene:Disease',\n",
              "       'GNBR::Te::Gene:Disease', 'GNBR::Md::Gene:Disease',\n",
              "       'GNBR::G::Gene:Disease', 'GNBR::D::Gene:Disease',\n",
              "       'GNBR::X::Gene:Disease', 'GNBR::Ud::Gene:Disease',\n",
              "       'GNBR::V+::Gene:Gene', 'GNBR::Q::Gene:Gene', 'GNBR::Rg::Gene:Gene',\n",
              "       'GNBR::B::Gene:Gene', 'GNBR::I::Gene:Gene', 'GNBR::E+::Gene:Gene',\n",
              "       'GNBR::H::Gene:Gene', 'GNBR::W::Gene:Gene', 'GNBR::E::Gene:Gene',\n",
              "       'GNBR::in_tax::Gene:Tax',\n",
              "       'Hetionet::GpBP::Gene:Biological Process',\n",
              "       'Hetionet::GiG::Gene:Gene', 'Hetionet::CrC::Compound:Compound',\n",
              "       'Hetionet::DdG::Disease:Gene', 'Hetionet::DpS::Disease:Symptom',\n",
              "       'Hetionet::DlA::Disease:Anatomy',\n",
              "       'Hetionet::CtD::Compound:Disease', 'Hetionet::CbG::Compound:Gene',\n",
              "       'Hetionet::CuG::Compound:Gene', 'Hetionet::DrD::Disease:Disease',\n",
              "       'Hetionet::DaG::Disease:Gene', 'Hetionet::CpD::Compound:Disease',\n",
              "       'Hetionet::AdG::Anatomy:Gene', 'Hetionet::AuG::Anatomy:Gene',\n",
              "       'Hetionet::GcG::Gene:Gene',\n",
              "       'Hetionet::GpMF::Gene:Molecular Function',\n",
              "       'Hetionet::PCiC::Pharmacologic Class:Compound',\n",
              "       'Hetionet::GpCC::Gene:Cellular Component',\n",
              "       'Hetionet::Gr>G::Gene:Gene', 'Hetionet::CdG::Compound:Gene',\n",
              "       'Hetionet::DuG::Disease:Gene', 'Hetionet::GpPW::Gene:Pathway',\n",
              "       'Hetionet::CcSE::Compound:Side Effect',\n",
              "       'Hetionet::AeG::Anatomy:Gene',\n",
              "       'INTACT::PHYSICAL ASSOCIATION::Compound:Gene',\n",
              "       'INTACT::DIRECT INTERACTION::Compound:Gene',\n",
              "       'INTACT::ASSOCIATION::Compound:Gene',\n",
              "       'INTACT::ASSOCIATION::Gene:Gene',\n",
              "       'INTACT::PHYSICAL ASSOCIATION::Gene:Gene',\n",
              "       'INTACT::COLOCALIZATION::Gene:Gene',\n",
              "       'INTACT::DEPHOSPHORYLATION REACTION::Gene:Gene',\n",
              "       'INTACT::CLEAVAGE REACTION::Gene:Gene',\n",
              "       'INTACT::DIRECT INTERACTION::Gene:Gene',\n",
              "       'INTACT::PHOSPHORYLATION REACTION::Gene:Gene',\n",
              "       'INTACT::ADP RIBOSYLATION REACTION::Gene:Gene',\n",
              "       'INTACT::UBIQUITINATION REACTION::Gene:Gene',\n",
              "       'INTACT::PROTEIN CLEAVAGE::Gene:Gene',\n",
              "       'STRING::REACTION::Gene:Gene', 'STRING::CATALYSIS::Gene:Gene',\n",
              "       'STRING::ACTIVATION::Gene:Gene', 'STRING::INHIBITION::Gene:Gene',\n",
              "       'STRING::OTHER::Gene:Gene', 'STRING::BINDING::Gene:Gene',\n",
              "       'STRING::PTMOD::Gene:Gene', 'STRING::EXPRESSION::Gene:Gene'],\n",
              "      dtype=object)"
            ]
          },
          "metadata": {
            "tags": []
          },
          "execution_count": 52
        }
      ]
    },
    {
      "cell_type": "markdown",
      "metadata": {
        "id": "HaZhQGheG8Ak"
      },
      "source": [
        "### **HOW TO READ RELATIONS**\n",
        "\n",
        "* RELATION EXAMPLE \n",
        "<p align=\"center\">\n",
        "  <img src=\"https://drive.google.com/uc?id=1RlAdSeoK7xrh6QXIPPKgwtJwsVjwthN1\" />\n",
        "</p>\n",
        "\n"
      ]
    },
    {
      "cell_type": "markdown",
      "metadata": {
        "id": "0JMm7FYIGubd"
      },
      "source": [
        "<p align=\"center\">\n",
        "  <img src=\"https://drive.google.com/uc?id=1wVdnTzHVT2f36R_wJauIG-4VGmG6k64-\" />\n",
        "</p>\n",
        "\n"
      ]
    },
    {
      "cell_type": "code",
      "metadata": {
        "id": "W9m2S_FCslgd",
        "colab": {
          "base_uri": "https://localhost:8080/"
        },
        "outputId": "0862af3f-8bf9-454a-8735-4484b40e34e2"
      },
      "source": [
        "!ls"
      ],
      "execution_count": 53,
      "outputs": [
        {
          "output_type": "stream",
          "text": [
            "coronavirus-related-host-genes.tsv  drkg.tar.gz.1   infer_drug.tsv\n",
            "COVID19_clinical_trial_drugs.tsv    drkg.tsv\t    relation_glossary.tsv\n",
            "covid19-host-genes.tsv\t\t    embed\t    sample_data\n",
            "drkg.tar.gz\t\t\t    entity2src.tsv\n"
          ],
          "name": "stdout"
        }
      ]
    },
    {
      "cell_type": "code",
      "metadata": {
        "id": "c5sXHeshs0vR",
        "colab": {
          "base_uri": "https://localhost:8080/",
          "height": 289
        },
        "outputId": "ba86cfb1-9a43-4cb2-ff64-6f8d5abac57a"
      },
      "source": [
        "ontology = pd.read_csv('relation_glossary.tsv', sep='\\t')\n",
        "ontology.head()"
      ],
      "execution_count": 54,
      "outputs": [
        {
          "output_type": "execute_result",
          "data": {
            "text/html": [
              "<div>\n",
              "<style scoped>\n",
              "    .dataframe tbody tr th:only-of-type {\n",
              "        vertical-align: middle;\n",
              "    }\n",
              "\n",
              "    .dataframe tbody tr th {\n",
              "        vertical-align: top;\n",
              "    }\n",
              "\n",
              "    .dataframe thead th {\n",
              "        text-align: right;\n",
              "    }\n",
              "</style>\n",
              "<table border=\"1\" class=\"dataframe\">\n",
              "  <thead>\n",
              "    <tr style=\"text-align: right;\">\n",
              "      <th></th>\n",
              "      <th>Relation-name</th>\n",
              "      <th>Data-source</th>\n",
              "      <th>Connected entity-types</th>\n",
              "      <th>Interaction-type</th>\n",
              "      <th>Description</th>\n",
              "      <th>Reference for the description</th>\n",
              "    </tr>\n",
              "  </thead>\n",
              "  <tbody>\n",
              "    <tr>\n",
              "      <th>0</th>\n",
              "      <td>DGIDB::ACTIVATOR::Gene:Compound</td>\n",
              "      <td>DGIDB</td>\n",
              "      <td>Compound:Gene</td>\n",
              "      <td>activation</td>\n",
              "      <td>An activator interaction is when a drug activa...</td>\n",
              "      <td>http://www.dgidb.org/getting_started</td>\n",
              "    </tr>\n",
              "    <tr>\n",
              "      <th>1</th>\n",
              "      <td>DGIDB::AGONIST::Gene:Compound</td>\n",
              "      <td>DGIDB</td>\n",
              "      <td>Compound:Gene</td>\n",
              "      <td>agonism</td>\n",
              "      <td>An agonist interaction occurs when a drug bind...</td>\n",
              "      <td>http://www.dgidb.org/getting_started</td>\n",
              "    </tr>\n",
              "    <tr>\n",
              "      <th>2</th>\n",
              "      <td>DGIDB::ALLOSTERIC MODULATOR::Gene:Compound</td>\n",
              "      <td>DGIDB</td>\n",
              "      <td>Compound:Gene</td>\n",
              "      <td>allosteric modulation</td>\n",
              "      <td>An allosteric modulator interaction occurs whe...</td>\n",
              "      <td>http://www.dgidb.org/getting_started</td>\n",
              "    </tr>\n",
              "    <tr>\n",
              "      <th>3</th>\n",
              "      <td>DGIDB::ANTAGONIST::Gene:Compound</td>\n",
              "      <td>DGIDB</td>\n",
              "      <td>Compound:Gene</td>\n",
              "      <td>antagonism</td>\n",
              "      <td>An antagonist interaction occurs when a drug b...</td>\n",
              "      <td>http://www.dgidb.org/getting_started</td>\n",
              "    </tr>\n",
              "    <tr>\n",
              "      <th>4</th>\n",
              "      <td>DGIDB::ANTIBODY::Gene:Compound</td>\n",
              "      <td>DGIDB</td>\n",
              "      <td>Compound:Gene</td>\n",
              "      <td>antibody</td>\n",
              "      <td>An antibody interaction occurs when an antibod...</td>\n",
              "      <td>http://www.dgidb.org/getting_started</td>\n",
              "    </tr>\n",
              "  </tbody>\n",
              "</table>\n",
              "</div>"
            ],
            "text/plain": [
              "                                Relation-name  ...         Reference for the description\n",
              "0             DGIDB::ACTIVATOR::Gene:Compound  ...  http://www.dgidb.org/getting_started\n",
              "1               DGIDB::AGONIST::Gene:Compound  ...  http://www.dgidb.org/getting_started\n",
              "2  DGIDB::ALLOSTERIC MODULATOR::Gene:Compound  ...  http://www.dgidb.org/getting_started\n",
              "3            DGIDB::ANTAGONIST::Gene:Compound  ...  http://www.dgidb.org/getting_started\n",
              "4              DGIDB::ANTIBODY::Gene:Compound  ...  http://www.dgidb.org/getting_started\n",
              "\n",
              "[5 rows x 6 columns]"
            ]
          },
          "metadata": {
            "tags": []
          },
          "execution_count": 54
        }
      ]
    },
    {
      "cell_type": "code",
      "metadata": {
        "id": "68hjEO983pIi",
        "colab": {
          "base_uri": "https://localhost:8080/"
        },
        "outputId": "4db54ccf-013b-418a-9657-89c3dd91d006"
      },
      "source": [
        "ontology['Data-source'].unique()"
      ],
      "execution_count": 55,
      "outputs": [
        {
          "output_type": "execute_result",
          "data": {
            "text/plain": [
              "array(['DGIDB', 'DRUGBANK', 'GNBR', 'HETIONET', 'IntAct', 'STRING',\n",
              "       'BIBLIOGRAPHY'], dtype=object)"
            ]
          },
          "metadata": {
            "tags": []
          },
          "execution_count": 55
        }
      ]
    },
    {
      "cell_type": "code",
      "metadata": {
        "id": "yNEmJgzOs9gl",
        "colab": {
          "base_uri": "https://localhost:8080/",
          "height": 80
        },
        "outputId": "c95f4649-af07-4135-8b68-a6c6d1b38e3f"
      },
      "source": [
        "ontology[ontology['Relation-name'] == 'bioarx::HumGenHumGen:Gene:Gene']\n"
      ],
      "execution_count": 56,
      "outputs": [
        {
          "output_type": "execute_result",
          "data": {
            "text/html": [
              "<div>\n",
              "<style scoped>\n",
              "    .dataframe tbody tr th:only-of-type {\n",
              "        vertical-align: middle;\n",
              "    }\n",
              "\n",
              "    .dataframe tbody tr th {\n",
              "        vertical-align: top;\n",
              "    }\n",
              "\n",
              "    .dataframe thead th {\n",
              "        text-align: right;\n",
              "    }\n",
              "</style>\n",
              "<table border=\"1\" class=\"dataframe\">\n",
              "  <thead>\n",
              "    <tr style=\"text-align: right;\">\n",
              "      <th></th>\n",
              "      <th>Relation-name</th>\n",
              "      <th>Data-source</th>\n",
              "      <th>Connected entity-types</th>\n",
              "      <th>Interaction-type</th>\n",
              "      <th>Description</th>\n",
              "      <th>Reference for the description</th>\n",
              "    </tr>\n",
              "  </thead>\n",
              "  <tbody>\n",
              "    <tr>\n",
              "      <th>105</th>\n",
              "      <td>bioarx::HumGenHumGen:Gene:Gene</td>\n",
              "      <td>BIBLIOGRAPHY</td>\n",
              "      <td>Gene:Gene</td>\n",
              "      <td>interaction</td>\n",
              "      <td>Protein-protein interaction</td>\n",
              "      <td>NaN</td>\n",
              "    </tr>\n",
              "  </tbody>\n",
              "</table>\n",
              "</div>"
            ],
            "text/plain": [
              "                      Relation-name  ... Reference for the description\n",
              "105  bioarx::HumGenHumGen:Gene:Gene  ...                           NaN\n",
              "\n",
              "[1 rows x 6 columns]"
            ]
          },
          "metadata": {
            "tags": []
          },
          "execution_count": 56
        }
      ]
    },
    {
      "cell_type": "code",
      "metadata": {
        "id": "pgtZ2I-EuZdj",
        "colab": {
          "base_uri": "https://localhost:8080/"
        },
        "outputId": "de0f1ca6-4cfb-42b8-bee4-25477d787e3c"
      },
      "source": [
        "interaction_types = ontology['Interaction-type'].unique()\n",
        "interaction_types"
      ],
      "execution_count": 57,
      "outputs": [
        {
          "output_type": "execute_result",
          "data": {
            "text/plain": [
              "array(['activation', 'agonism', 'allosteric modulation', 'antagonism',\n",
              "       'antibody', 'binding', 'blocking', 'channel blocking',\n",
              "       'inhibition', 'modulation', 'other', 'partial agonism',\n",
              "       'positive allosteric modulation', 'carrier',\n",
              "       'drug-drug interaction', 'enzyme', 'target',\n",
              "       'Compound belongs to Anatomical Therapeutic Chemical (ATC) code.',\n",
              "       'Compound treats the disease', 'agonism, activation',\n",
              "       'antagonism, blocking', 'binding, ligand (esp. receptors)',\n",
              "       'inhibits cell growth (esp. cancers)', 'drug targets',\n",
              "       'increases expression/production',\n",
              "       'decreases expression/production',\n",
              "       'affects expression/production (neutral)', 'promotes progression',\n",
              "       'same protein or complex', 'signaling pathway',\n",
              "       'role in disease pathogenesis', 'role in pathogenesis',\n",
              "       'metabolism, pharmacokinetics',\n",
              "       'improper regulation linked to disease', 'biomarkers (diagnostic)',\n",
              "       'biomarkers (of disease progression)', 'inhibits',\n",
              "       'transport, channels', 'alleviates, reduces',\n",
              "       'prevents, suppresses', 'production by cell population',\n",
              "       'regulation', 'side effect/adverse event',\n",
              "       'treatment/therapy (including investigatory)',\n",
              "       'possible therapeutic effect', 'causal mutations',\n",
              "       'mutations affecting disease course', 'activates, stimulates',\n",
              "       'enhances response', 'overexpression in disease',\n",
              "       'polymorphisms alter risk', 'enzyme activity',\n",
              "       'gene belongs to taxonomy', 'downregulatation', 'expression',\n",
              "       'upregulation', 'causes', 'downregulation', 'palliation',\n",
              "       'resemblence', 'treatment', 'association', 'localization',\n",
              "       'presents', 'covariation', 'interaction', 'participation',\n",
              "       'inclusion', 'ADP ribosylation reaction', 'cleavage reaction',\n",
              "       'colocalization', 'dephosphorylation reaction',\n",
              "       'direct interation', 'phosphorylation reaction',\n",
              "       'physical association', 'protein cleavage',\n",
              "       'ubiquitination reaction', 'catalysis',\n",
              "       'post-translational modification', 'reaction'], dtype=object)"
            ]
          },
          "metadata": {
            "tags": []
          },
          "execution_count": 57
        }
      ]
    },
    {
      "cell_type": "code",
      "metadata": {
        "id": "9Tma7NNDwEzk",
        "colab": {
          "base_uri": "https://localhost:8080/"
        },
        "outputId": "8d611a94-366e-46d3-80c0-d9296b30ea02"
      },
      "source": [
        "!ls"
      ],
      "execution_count": 58,
      "outputs": [
        {
          "output_type": "stream",
          "text": [
            "coronavirus-related-host-genes.tsv  drkg.tar.gz.1   infer_drug.tsv\n",
            "COVID19_clinical_trial_drugs.tsv    drkg.tsv\t    relation_glossary.tsv\n",
            "covid19-host-genes.tsv\t\t    embed\t    sample_data\n",
            "drkg.tar.gz\t\t\t    entity2src.tsv\n"
          ],
          "name": "stdout"
        }
      ]
    },
    {
      "cell_type": "markdown",
      "metadata": {
        "id": "RzjmZEN-LsNy"
      },
      "source": [
        "# COVID19: Targets and Drugs\n"
      ]
    },
    {
      "cell_type": "code",
      "metadata": {
        "id": "1k_9cIvf6gLY",
        "colab": {
          "base_uri": "https://localhost:8080/"
        },
        "outputId": "05ac6a18-3566-4535-cc5a-be302e8ca2bc"
      },
      "source": [
        "!wget https://www.dropbox.com/s/6wkwkq1702howzm/coronavirus-related-host-genes.tsv\n",
        "!wget https://www.dropbox.com/s/1ic85679gj56a5t/COVID19_clinical_trial_drugs.tsv\n",
        "!wget https://www.dropbox.com/s/ppgdw32bw9pyas3/covid19-host-genes.tsv\n",
        "!wget https://www.dropbox.com/s/id0rmebzzopm25j/infer_drug.tsv\n"
      ],
      "execution_count": 59,
      "outputs": [
        {
          "output_type": "stream",
          "text": [
            "--2020-11-24 18:01:29--  https://www.dropbox.com/s/6wkwkq1702howzm/coronavirus-related-host-genes.tsv\n",
            "Resolving www.dropbox.com (www.dropbox.com)... 162.125.82.1, 2620:100:6032:1::a27d:5201\n",
            "Connecting to www.dropbox.com (www.dropbox.com)|162.125.82.1|:443... connected.\n",
            "HTTP request sent, awaiting response... 301 Moved Permanently\n",
            "Location: /s/raw/6wkwkq1702howzm/coronavirus-related-host-genes.tsv [following]\n",
            "--2020-11-24 18:01:29--  https://www.dropbox.com/s/raw/6wkwkq1702howzm/coronavirus-related-host-genes.tsv\n",
            "Reusing existing connection to www.dropbox.com:443.\n",
            "HTTP request sent, awaiting response... 302 Found\n",
            "Location: https://uc92b35b0ce1565c3aac088527bf.dl.dropboxusercontent.com/cd/0/inline/BD1thlT6C_PLsmKEMA7-tKxEZQWbqQ9EZ_fK-otexFNTiEn569WyQqLTYyozEpzMn3MYfa-1kFmfEgU9uBxGzOlonQlg28ZBpS4SQ9z2K88CPBpzEuTYVTNQXNSYe-ZK_M4/file# [following]\n",
            "--2020-11-24 18:01:29--  https://uc92b35b0ce1565c3aac088527bf.dl.dropboxusercontent.com/cd/0/inline/BD1thlT6C_PLsmKEMA7-tKxEZQWbqQ9EZ_fK-otexFNTiEn569WyQqLTYyozEpzMn3MYfa-1kFmfEgU9uBxGzOlonQlg28ZBpS4SQ9z2K88CPBpzEuTYVTNQXNSYe-ZK_M4/file\n",
            "Resolving uc92b35b0ce1565c3aac088527bf.dl.dropboxusercontent.com (uc92b35b0ce1565c3aac088527bf.dl.dropboxusercontent.com)... 162.125.82.15, 2620:100:6032:15::a27d:520f\n",
            "Connecting to uc92b35b0ce1565c3aac088527bf.dl.dropboxusercontent.com (uc92b35b0ce1565c3aac088527bf.dl.dropboxusercontent.com)|162.125.82.15|:443... connected.\n",
            "HTTP request sent, awaiting response... 200 OK\n",
            "Length: 10480 (10K) [text/plain]\n",
            "Saving to: ‘coronavirus-related-host-genes.tsv.1’\n",
            "\n",
            "coronavirus-related 100%[===================>]  10.23K  --.-KB/s    in 0s      \n",
            "\n",
            "2020-11-24 18:01:30 (165 MB/s) - ‘coronavirus-related-host-genes.tsv.1’ saved [10480/10480]\n",
            "\n",
            "--2020-11-24 18:01:30--  https://www.dropbox.com/s/1ic85679gj56a5t/COVID19_clinical_trial_drugs.tsv\n",
            "Resolving www.dropbox.com (www.dropbox.com)... 162.125.82.1, 2620:100:6032:1::a27d:5201\n",
            "Connecting to www.dropbox.com (www.dropbox.com)|162.125.82.1|:443... connected.\n",
            "HTTP request sent, awaiting response... 301 Moved Permanently\n",
            "Location: /s/raw/1ic85679gj56a5t/COVID19_clinical_trial_drugs.tsv [following]\n",
            "--2020-11-24 18:01:30--  https://www.dropbox.com/s/raw/1ic85679gj56a5t/COVID19_clinical_trial_drugs.tsv\n",
            "Reusing existing connection to www.dropbox.com:443.\n",
            "HTTP request sent, awaiting response... 302 Found\n",
            "Location: https://uc008c506f6747f76f79dfea6fae.dl.dropboxusercontent.com/cd/0/inline/BD0A4iC6xbxVwgTIIUmw7MIlxr01shkEYVQ5CNDoWvsdSWOFTlAUJ4JAHA5yeWiX_lFkxZ69lDGdvc380FYmRaz_N1cxFiLIk6tGBlss6ChTZYGH5q0FPq9wSiwri2Oito8/file# [following]\n",
            "--2020-11-24 18:01:31--  https://uc008c506f6747f76f79dfea6fae.dl.dropboxusercontent.com/cd/0/inline/BD0A4iC6xbxVwgTIIUmw7MIlxr01shkEYVQ5CNDoWvsdSWOFTlAUJ4JAHA5yeWiX_lFkxZ69lDGdvc380FYmRaz_N1cxFiLIk6tGBlss6ChTZYGH5q0FPq9wSiwri2Oito8/file\n",
            "Resolving uc008c506f6747f76f79dfea6fae.dl.dropboxusercontent.com (uc008c506f6747f76f79dfea6fae.dl.dropboxusercontent.com)... 162.125.82.15, 2620:100:6032:15::a27d:520f\n",
            "Connecting to uc008c506f6747f76f79dfea6fae.dl.dropboxusercontent.com (uc008c506f6747f76f79dfea6fae.dl.dropboxusercontent.com)|162.125.82.15|:443... connected.\n",
            "HTTP request sent, awaiting response... 200 OK\n",
            "Length: 738 [text/plain]\n",
            "Saving to: ‘COVID19_clinical_trial_drugs.tsv.1’\n",
            "\n",
            "COVID19_clinical_tr 100%[===================>]     738  --.-KB/s    in 0s      \n",
            "\n",
            "2020-11-24 18:01:31 (94.5 MB/s) - ‘COVID19_clinical_trial_drugs.tsv.1’ saved [738/738]\n",
            "\n",
            "--2020-11-24 18:01:31--  https://www.dropbox.com/s/ppgdw32bw9pyas3/covid19-host-genes.tsv\n",
            "Resolving www.dropbox.com (www.dropbox.com)... 162.125.82.1, 2620:100:6032:1::a27d:5201\n",
            "Connecting to www.dropbox.com (www.dropbox.com)|162.125.82.1|:443... connected.\n",
            "HTTP request sent, awaiting response... 301 Moved Permanently\n",
            "Location: /s/raw/ppgdw32bw9pyas3/covid19-host-genes.tsv [following]\n",
            "--2020-11-24 18:01:31--  https://www.dropbox.com/s/raw/ppgdw32bw9pyas3/covid19-host-genes.tsv\n",
            "Reusing existing connection to www.dropbox.com:443.\n",
            "HTTP request sent, awaiting response... 302 Found\n",
            "Location: https://uc9c44ab74123e366c6533445d16.dl.dropboxusercontent.com/cd/0/inline/BD3kLt7P2TVozwva2T7WIWLcGE19jxzX1Dw-2EMF0cwCf9Q2Mj0G7n1Tl7PB_U1xKp4JBImWaqQeelmLKyWP67kby1d6tMyB6GIDdVd_nP6lqYR9jJw5i-d35ERXMFoKc_k/file# [following]\n",
            "--2020-11-24 18:01:32--  https://uc9c44ab74123e366c6533445d16.dl.dropboxusercontent.com/cd/0/inline/BD3kLt7P2TVozwva2T7WIWLcGE19jxzX1Dw-2EMF0cwCf9Q2Mj0G7n1Tl7PB_U1xKp4JBImWaqQeelmLKyWP67kby1d6tMyB6GIDdVd_nP6lqYR9jJw5i-d35ERXMFoKc_k/file\n",
            "Resolving uc9c44ab74123e366c6533445d16.dl.dropboxusercontent.com (uc9c44ab74123e366c6533445d16.dl.dropboxusercontent.com)... 162.125.82.15, 2620:100:6032:15::a27d:520f\n",
            "Connecting to uc9c44ab74123e366c6533445d16.dl.dropboxusercontent.com (uc9c44ab74123e366c6533445d16.dl.dropboxusercontent.com)|162.125.82.15|:443... connected.\n",
            "HTTP request sent, awaiting response... 200 OK\n",
            "Length: 26099 (25K) [text/plain]\n",
            "Saving to: ‘covid19-host-genes.tsv.1’\n",
            "\n",
            "covid19-host-genes. 100%[===================>]  25.49K   170KB/s    in 0.2s    \n",
            "\n",
            "2020-11-24 18:01:32 (170 KB/s) - ‘covid19-host-genes.tsv.1’ saved [26099/26099]\n",
            "\n",
            "--2020-11-24 18:01:32--  https://www.dropbox.com/s/id0rmebzzopm25j/infer_drug.tsv\n",
            "Resolving www.dropbox.com (www.dropbox.com)... 162.125.82.1, 2620:100:6032:1::a27d:5201\n",
            "Connecting to www.dropbox.com (www.dropbox.com)|162.125.82.1|:443... connected.\n",
            "HTTP request sent, awaiting response... 301 Moved Permanently\n",
            "Location: /s/raw/id0rmebzzopm25j/infer_drug.tsv [following]\n",
            "--2020-11-24 18:01:32--  https://www.dropbox.com/s/raw/id0rmebzzopm25j/infer_drug.tsv\n",
            "Reusing existing connection to www.dropbox.com:443.\n",
            "HTTP request sent, awaiting response... 302 Found\n",
            "Location: https://uc373d687a8d7be1932488470b5f.dl.dropboxusercontent.com/cd/0/inline/BD1IE_ChUX5eRjSaA5YB1pZ6SoFHQWRwW60x3dPKvKviwWNbzZmtlncWVAbbE7BaUQ8OYn20TYNQtk7TyH8H6KdC2-ldlXRFJp-2SsGQfVoJro7qhnEamSvCJgDUdfeS90A/file# [following]\n",
            "--2020-11-24 18:01:33--  https://uc373d687a8d7be1932488470b5f.dl.dropboxusercontent.com/cd/0/inline/BD1IE_ChUX5eRjSaA5YB1pZ6SoFHQWRwW60x3dPKvKviwWNbzZmtlncWVAbbE7BaUQ8OYn20TYNQtk7TyH8H6KdC2-ldlXRFJp-2SsGQfVoJro7qhnEamSvCJgDUdfeS90A/file\n",
            "Resolving uc373d687a8d7be1932488470b5f.dl.dropboxusercontent.com (uc373d687a8d7be1932488470b5f.dl.dropboxusercontent.com)... 162.125.82.15, 2620:100:6032:15::a27d:520f\n",
            "Connecting to uc373d687a8d7be1932488470b5f.dl.dropboxusercontent.com (uc373d687a8d7be1932488470b5f.dl.dropboxusercontent.com)|162.125.82.15|:443... connected.\n",
            "HTTP request sent, awaiting response... 200 OK\n",
            "Length: 192458 (188K) [text/plain]\n",
            "Saving to: ‘infer_drug.tsv.1’\n",
            "\n",
            "infer_drug.tsv.1    100%[===================>] 187.95K   427KB/s    in 0.4s    \n",
            "\n",
            "2020-11-24 18:01:34 (427 KB/s) - ‘infer_drug.tsv.1’ saved [192458/192458]\n",
            "\n"
          ],
          "name": "stdout"
        }
      ]
    },
    {
      "cell_type": "code",
      "metadata": {
        "id": "EnR_QAbeM1R9",
        "colab": {
          "base_uri": "https://localhost:8080/"
        },
        "outputId": "538f3ca1-cf9f-40c5-dcb7-be2eb91d3d86"
      },
      "source": [
        "!ls"
      ],
      "execution_count": 60,
      "outputs": [
        {
          "output_type": "stream",
          "text": [
            "coronavirus-related-host-genes.tsv    drkg.tsv\n",
            "coronavirus-related-host-genes.tsv.1  embed\n",
            "COVID19_clinical_trial_drugs.tsv      entity2src.tsv\n",
            "COVID19_clinical_trial_drugs.tsv.1    infer_drug.tsv\n",
            "covid19-host-genes.tsv\t\t      infer_drug.tsv.1\n",
            "covid19-host-genes.tsv.1\t      relation_glossary.tsv\n",
            "drkg.tar.gz\t\t\t      sample_data\n",
            "drkg.tar.gz.1\n"
          ],
          "name": "stdout"
        }
      ]
    },
    {
      "cell_type": "code",
      "metadata": {
        "id": "A9VPvjx1JvvV"
      },
      "source": [
        "\n",
        "\n",
        "import pandas as pd\n",
        "import numpy as np\n",
        "\n",
        "\n",
        "df = pd.read_csv('coronavirus-related-host-genes.tsv', sep=\"\\t\", names=col_names)\n",
        "df_host = pd.read_csv('covid19-host-genes.tsv',  sep=\"\\t\", names=col_names)\n"
      ],
      "execution_count": 76,
      "outputs": []
    },
    {
      "cell_type": "code",
      "metadata": {
        "id": "7bjzUUsG61mR",
        "colab": {
          "base_uri": "https://localhost:8080/",
          "height": 204
        },
        "outputId": "3cdda680-a6af-4b51-9053-f7fa2c17bb88"
      },
      "source": [
        "df.head()"
      ],
      "execution_count": 77,
      "outputs": [
        {
          "output_type": "execute_result",
          "data": {
            "text/html": [
              "<div>\n",
              "<style scoped>\n",
              "    .dataframe tbody tr th:only-of-type {\n",
              "        vertical-align: middle;\n",
              "    }\n",
              "\n",
              "    .dataframe tbody tr th {\n",
              "        vertical-align: top;\n",
              "    }\n",
              "\n",
              "    .dataframe thead th {\n",
              "        text-align: right;\n",
              "    }\n",
              "</style>\n",
              "<table border=\"1\" class=\"dataframe\">\n",
              "  <thead>\n",
              "    <tr style=\"text-align: right;\">\n",
              "      <th></th>\n",
              "      <th>HEAD</th>\n",
              "      <th>RELATION</th>\n",
              "      <th>TAIL</th>\n",
              "    </tr>\n",
              "  </thead>\n",
              "  <tbody>\n",
              "    <tr>\n",
              "      <th>0</th>\n",
              "      <td>Disease::MESH:D001351</td>\n",
              "      <td>bioarx::Coronavirus_ass_host_gene::Disease:Gene</td>\n",
              "      <td>Gene::2931</td>\n",
              "    </tr>\n",
              "    <tr>\n",
              "      <th>1</th>\n",
              "      <td>Disease::MESH:D001351</td>\n",
              "      <td>bioarx::Coronavirus_ass_host_gene::Disease:Gene</td>\n",
              "      <td>Gene::2932</td>\n",
              "    </tr>\n",
              "    <tr>\n",
              "      <th>2</th>\n",
              "      <td>Disease::MESH:D001351</td>\n",
              "      <td>bioarx::Coronavirus_ass_host_gene::Disease:Gene</td>\n",
              "      <td>Gene::26986</td>\n",
              "    </tr>\n",
              "    <tr>\n",
              "      <th>3</th>\n",
              "      <td>Disease::MESH:D001351</td>\n",
              "      <td>bioarx::Coronavirus_ass_host_gene::Disease:Gene</td>\n",
              "      <td>Gene::8761</td>\n",
              "    </tr>\n",
              "    <tr>\n",
              "      <th>4</th>\n",
              "      <td>Disease::MESH:D001351</td>\n",
              "      <td>bioarx::Coronavirus_ass_host_gene::Disease:Gene</td>\n",
              "      <td>Gene::3178</td>\n",
              "    </tr>\n",
              "  </tbody>\n",
              "</table>\n",
              "</div>"
            ],
            "text/plain": [
              "                    HEAD  ...         TAIL\n",
              "0  Disease::MESH:D001351  ...   Gene::2931\n",
              "1  Disease::MESH:D001351  ...   Gene::2932\n",
              "2  Disease::MESH:D001351  ...  Gene::26986\n",
              "3  Disease::MESH:D001351  ...   Gene::8761\n",
              "4  Disease::MESH:D001351  ...   Gene::3178\n",
              "\n",
              "[5 rows x 3 columns]"
            ]
          },
          "metadata": {
            "tags": []
          },
          "execution_count": 77
        }
      ]
    },
    {
      "cell_type": "code",
      "metadata": {
        "id": "0kZuA0ly7FdL",
        "colab": {
          "base_uri": "https://localhost:8080/",
          "height": 204
        },
        "outputId": "ca47506e-3d5a-4e9c-93ff-77577fe6c572"
      },
      "source": [
        "df_host.head()"
      ],
      "execution_count": 78,
      "outputs": [
        {
          "output_type": "execute_result",
          "data": {
            "text/html": [
              "<div>\n",
              "<style scoped>\n",
              "    .dataframe tbody tr th:only-of-type {\n",
              "        vertical-align: middle;\n",
              "    }\n",
              "\n",
              "    .dataframe tbody tr th {\n",
              "        vertical-align: top;\n",
              "    }\n",
              "\n",
              "    .dataframe thead th {\n",
              "        text-align: right;\n",
              "    }\n",
              "</style>\n",
              "<table border=\"1\" class=\"dataframe\">\n",
              "  <thead>\n",
              "    <tr style=\"text-align: right;\">\n",
              "      <th></th>\n",
              "      <th>HEAD</th>\n",
              "      <th>RELATION</th>\n",
              "      <th>TAIL</th>\n",
              "    </tr>\n",
              "  </thead>\n",
              "  <tbody>\n",
              "    <tr>\n",
              "      <th>0</th>\n",
              "      <td>Disease::SARS-CoV2 E</td>\n",
              "      <td>bioarx::Covid2_acc_host_gene::Disease:Gene</td>\n",
              "      <td>Gene::8546</td>\n",
              "    </tr>\n",
              "    <tr>\n",
              "      <th>1</th>\n",
              "      <td>Disease::SARS-CoV2 E</td>\n",
              "      <td>bioarx::Covid2_acc_host_gene::Disease:Gene</td>\n",
              "      <td>Gene::23476</td>\n",
              "    </tr>\n",
              "    <tr>\n",
              "      <th>2</th>\n",
              "      <td>Disease::SARS-CoV2 E</td>\n",
              "      <td>bioarx::Covid2_acc_host_gene::Disease:Gene</td>\n",
              "      <td>Gene::6046</td>\n",
              "    </tr>\n",
              "    <tr>\n",
              "      <th>3</th>\n",
              "      <td>Disease::SARS-CoV2 E</td>\n",
              "      <td>bioarx::Covid2_acc_host_gene::Disease:Gene</td>\n",
              "      <td>Gene::10283</td>\n",
              "    </tr>\n",
              "    <tr>\n",
              "      <th>4</th>\n",
              "      <td>Disease::SARS-CoV2 E</td>\n",
              "      <td>bioarx::Covid2_acc_host_gene::Disease:Gene</td>\n",
              "      <td>Gene::124245</td>\n",
              "    </tr>\n",
              "  </tbody>\n",
              "</table>\n",
              "</div>"
            ],
            "text/plain": [
              "                   HEAD  ...          TAIL\n",
              "0  Disease::SARS-CoV2 E  ...    Gene::8546\n",
              "1  Disease::SARS-CoV2 E  ...   Gene::23476\n",
              "2  Disease::SARS-CoV2 E  ...    Gene::6046\n",
              "3  Disease::SARS-CoV2 E  ...   Gene::10283\n",
              "4  Disease::SARS-CoV2 E  ...  Gene::124245\n",
              "\n",
              "[5 rows x 3 columns]"
            ]
          },
          "metadata": {
            "tags": []
          },
          "execution_count": 78
        }
      ]
    },
    {
      "cell_type": "code",
      "metadata": {
        "id": "4duEw7rVP0Dg",
        "colab": {
          "base_uri": "https://localhost:8080/"
        },
        "outputId": "a497995b-1719-4eb7-ebd5-ca581b7013d1"
      },
      "source": [
        "df_host.shape"
      ],
      "execution_count": 79,
      "outputs": [
        {
          "output_type": "execute_result",
          "data": {
            "text/plain": [
              "(332, 3)"
            ]
          },
          "metadata": {
            "tags": []
          },
          "execution_count": 79
        }
      ]
    },
    {
      "cell_type": "markdown",
      "metadata": {
        "id": "ED9rq_ulRShF"
      },
      "source": [
        "# COVID19 REPOSITIONING\n",
        "\n",
        "\n",
        "1.   Define target virus entities and drug entities (e.g: fda drugs)   [DRUG-TREATMENT-VIRUS]\n",
        "2.   Get pretrained Knowledge Graph embedding\n",
        "3.   Predict the connection scores of all possible triplets (Drug, Treatment, Virus) using some algorithms (e.g: TransE)\n",
        "4.   Rank\n",
        "\n"
      ]
    },
    {
      "cell_type": "markdown",
      "metadata": {
        "id": "k5VOYcbJTfEE"
      },
      "source": [
        "## COVID19 Virus Related Entities"
      ]
    },
    {
      "cell_type": "code",
      "metadata": {
        "id": "5dueRqVnTJEO"
      },
      "source": [
        "## covid related virus pheno\n",
        "COV_disease_list = [\n",
        "'Disease::SARS-CoV2 E',\n",
        "'Disease::SARS-CoV2 M',\n",
        "'Disease::SARS-CoV2 N',\n",
        "'Disease::SARS-CoV2 Spike',\n",
        "'Disease::SARS-CoV2 nsp1',\n",
        "'Disease::SARS-CoV2 nsp10',\n",
        "'Disease::SARS-CoV2 nsp11',\n",
        "'Disease::SARS-CoV2 nsp12',\n",
        "'Disease::SARS-CoV2 nsp13',\n",
        "'Disease::SARS-CoV2 nsp14',\n",
        "'Disease::SARS-CoV2 nsp15',\n",
        "'Disease::SARS-CoV2 nsp2',\n",
        "'Disease::SARS-CoV2 nsp4',\n",
        "'Disease::SARS-CoV2 nsp5',\n",
        "'Disease::SARS-CoV2 nsp5_C145A',\n",
        "'Disease::SARS-CoV2 nsp6',\n",
        "'Disease::SARS-CoV2 nsp7',\n",
        "'Disease::SARS-CoV2 nsp8',\n",
        "'Disease::SARS-CoV2 nsp9',\n",
        "'Disease::SARS-CoV2 orf10',\n",
        "'Disease::SARS-CoV2 orf3a',\n",
        "'Disease::SARS-CoV2 orf3b',\n",
        "'Disease::SARS-CoV2 orf6',\n",
        "'Disease::SARS-CoV2 orf7a',\n",
        "'Disease::SARS-CoV2 orf8',\n",
        "'Disease::SARS-CoV2 orf9b',\n",
        "'Disease::SARS-CoV2 orf9c',\n",
        "'Disease::MESH:D045169',\n",
        "'Disease::MESH:D045473',\n",
        "'Disease::MESH:D001351',\n",
        "'Disease::MESH:D065207',\n",
        "'Disease::MESH:D028941',\n",
        "'Disease::MESH:D058957',\n",
        "'Disease::MESH:D006517'\n",
        "]\n",
        "\n",
        "\n",
        "# treatment relations\n",
        "treatment = ['GNBR::T::Compound:Disease']\n",
        "# treatment = ['Hetionet::CtD::Compound:Disease','GNBR::T::Compound:Disease']"
      ],
      "execution_count": 81,
      "outputs": []
    },
    {
      "cell_type": "markdown",
      "metadata": {
        "id": "X7mn5WhSb0Nc"
      },
      "source": [
        "* NEW MESH TERM FOR COVID19 \n",
        "<p align=\"center\">\n",
        "  <img src=\"https://drive.google.com/uc?id=1Rx3HcwuQRDIsk-yWiZU2ne9ZcYSR9v2d\" />\n",
        "</p>\n"
      ]
    },
    {
      "cell_type": "markdown",
      "metadata": {
        "id": "qF14_Zgbr1Ek"
      },
      "source": [
        ""
      ]
    },
    {
      "cell_type": "code",
      "metadata": {
        "id": "7lwAbQj9BM1e",
        "colab": {
          "base_uri": "https://localhost:8080/"
        },
        "outputId": "d92bbeb8-3e07-422d-eca1-c929432b1378"
      },
      "source": [
        "!ls"
      ],
      "execution_count": 82,
      "outputs": [
        {
          "output_type": "stream",
          "text": [
            "coronavirus-related-host-genes.tsv    drkg.tsv\n",
            "coronavirus-related-host-genes.tsv.1  embed\n",
            "COVID19_clinical_trial_drugs.tsv      entity2src.tsv\n",
            "COVID19_clinical_trial_drugs.tsv.1    infer_drug.tsv\n",
            "covid19-host-genes.tsv\t\t      infer_drug.tsv.1\n",
            "covid19-host-genes.tsv.1\t      relation_glossary.tsv\n",
            "drkg.tar.gz\t\t\t      sample_data\n",
            "drkg.tar.gz.1\n"
          ],
          "name": "stdout"
        }
      ]
    },
    {
      "cell_type": "markdown",
      "metadata": {
        "id": "IRGWmOUFr0Mk"
      },
      "source": [
        ""
      ]
    },
    {
      "cell_type": "markdown",
      "metadata": {
        "id": "Cdt9EiB_TU_u"
      },
      "source": [
        "## Drugs to Reposition (FDA approved drugs)\n",
        "---"
      ]
    },
    {
      "cell_type": "code",
      "metadata": {
        "id": "81wgOIVPSrPx"
      },
      "source": [
        "\n",
        "import csv\n",
        "\n",
        "# Load entity file\n",
        "drug_list = []\n",
        "with open(\"./infer_drug.tsv\", newline='', encoding='utf-8') as csvfile:\n",
        "    reader = csv.DictReader(csvfile, delimiter='\\t', fieldnames=['drug','ids'])\n",
        "    for row_val in reader:\n",
        "        drug_list.append(row_val['drug'])"
      ],
      "execution_count": 108,
      "outputs": []
    },
    {
      "cell_type": "code",
      "metadata": {
        "id": "gG31V2gTXtem",
        "colab": {
          "base_uri": "https://localhost:8080/"
        },
        "outputId": "19f92fce-6f9d-4c7d-a573-dfa71e22202a"
      },
      "source": [
        "\n",
        "drug_list[:10]"
      ],
      "execution_count": 109,
      "outputs": [
        {
          "output_type": "execute_result",
          "data": {
            "text/plain": [
              "['Compound::DB00605',\n",
              " 'Compound::DB00983',\n",
              " 'Compound::DB01240',\n",
              " 'Compound::DB11755',\n",
              " 'Compound::DB12184',\n",
              " 'Compound::DB00404',\n",
              " 'Compound::DB01223',\n",
              " 'Compound::DB00572',\n",
              " 'Compound::DB00669',\n",
              " 'Compound::DB00494']"
            ]
          },
          "metadata": {
            "tags": []
          },
          "execution_count": 109
        }
      ]
    },
    {
      "cell_type": "markdown",
      "metadata": {
        "id": "V91in9XXUS1p"
      },
      "source": [
        "## Treatment Relation"
      ]
    },
    {
      "cell_type": "code",
      "metadata": {
        "id": "J3hx2NgeUrlm"
      },
      "source": [
        "entity_idmap_file = 'embed/entities.tsv'\n",
        "relation_idmap_file = 'embed/relations.tsv'"
      ],
      "execution_count": 105,
      "outputs": []
    },
    {
      "cell_type": "code",
      "metadata": {
        "id": "iImCWNrNW59q",
        "colab": {
          "base_uri": "https://localhost:8080/",
          "height": 232
        },
        "outputId": "32543797-23f3-41db-faeb-b0ab87f42f51"
      },
      "source": [
        "# Get drugname/disease name to entity ID mappings\n",
        "entity_map = {}\n",
        "entity_id_map = {}\n",
        "relation_map = {}\n",
        "with open(entity_idmap_file, newline='', encoding='utf-8') as csvfile:\n",
        "    reader = csv.DictReader(csvfile, delimiter='\\t', fieldnames=['name','id'])\n",
        "    for row_val in reader:\n",
        "        entity_map[row_val['name']] = int(row_val['id'])\n",
        "        entity_id_map[int(row_val['id'])] = row_val['name']\n",
        "        \n",
        "with open(relation_idmap_file, newline='', encoding='utf-8') as csvfile:\n",
        "    reader = csv.DictReader(csvfile, delimiter='\\t', fieldnames=['name','id'])\n",
        "    for row_val in reader:\n",
        "        relation_map[row_val['name']] = int(row_val['id'])\n",
        "        \n",
        "# handle the ID mapping\n",
        "drug_ids = []\n",
        "disease_ids = []\n",
        "for drug in drug_list:\n",
        "    drug_ids.append(entity_map[drug])\n",
        "    \n",
        "for disease in COV_disease_list:\n",
        "    disease_ids.append(entity_map[disease])\n",
        "\n",
        "treatment_rid = [relation_map[treat]  for treat in treatment]"
      ],
      "execution_count": 106,
      "outputs": [
        {
          "output_type": "error",
          "ename": "KeyError",
          "evalue": "ignored",
          "traceback": [
            "\u001b[0;31m---------------------------------------------------------------------------\u001b[0m",
            "\u001b[0;31mKeyError\u001b[0m                                  Traceback (most recent call last)",
            "\u001b[0;32m<ipython-input-106-34b89713981d>\u001b[0m in \u001b[0;36m<module>\u001b[0;34m()\u001b[0m\n\u001b[1;32m     18\u001b[0m \u001b[0mdisease_ids\u001b[0m \u001b[0;34m=\u001b[0m \u001b[0;34m[\u001b[0m\u001b[0;34m]\u001b[0m\u001b[0;34m\u001b[0m\u001b[0;34m\u001b[0m\u001b[0m\n\u001b[1;32m     19\u001b[0m \u001b[0;32mfor\u001b[0m \u001b[0mdrug\u001b[0m \u001b[0;32min\u001b[0m \u001b[0mdrug_list\u001b[0m\u001b[0;34m:\u001b[0m\u001b[0;34m\u001b[0m\u001b[0;34m\u001b[0m\u001b[0m\n\u001b[0;32m---> 20\u001b[0;31m     \u001b[0mdrug_ids\u001b[0m\u001b[0;34m.\u001b[0m\u001b[0mappend\u001b[0m\u001b[0;34m(\u001b[0m\u001b[0mentity_map\u001b[0m\u001b[0;34m[\u001b[0m\u001b[0mdrug\u001b[0m\u001b[0;34m]\u001b[0m\u001b[0;34m)\u001b[0m\u001b[0;34m\u001b[0m\u001b[0;34m\u001b[0m\u001b[0m\n\u001b[0m\u001b[1;32m     21\u001b[0m \u001b[0;34m\u001b[0m\u001b[0m\n\u001b[1;32m     22\u001b[0m \u001b[0;32mfor\u001b[0m \u001b[0mdisease\u001b[0m \u001b[0;32min\u001b[0m \u001b[0mCOV_disease_list\u001b[0m\u001b[0;34m:\u001b[0m\u001b[0;34m\u001b[0m\u001b[0;34m\u001b[0m\u001b[0m\n",
            "\u001b[0;31mKeyError\u001b[0m: '1'"
          ]
        }
      ]
    },
    {
      "cell_type": "code",
      "metadata": {
        "id": "zorZWOo4W9EL",
        "colab": {
          "base_uri": "https://localhost:8080/"
        },
        "outputId": "b024b628-19b3-4765-8e15-44fb9e54802e"
      },
      "source": [
        "len(entity_id_map)"
      ],
      "execution_count": 87,
      "outputs": [
        {
          "output_type": "execute_result",
          "data": {
            "text/plain": [
              "97238"
            ]
          },
          "metadata": {
            "tags": []
          },
          "execution_count": 87
        }
      ]
    },
    {
      "cell_type": "markdown",
      "metadata": {
        "id": "FwPp6AKxQsAZ"
      },
      "source": [
        "### Get the pretrained DRKG knowledge graph embedding."
      ]
    },
    {
      "cell_type": "code",
      "metadata": {
        "id": "lGALdoKbQ4Lo",
        "colab": {
          "base_uri": "https://localhost:8080/"
        },
        "outputId": "6555e4f7-f016-4444-f2b0-0b47f41008ac"
      },
      "source": [
        "!ls"
      ],
      "execution_count": 88,
      "outputs": [
        {
          "output_type": "stream",
          "text": [
            "coronavirus-related-host-genes.tsv    drkg.tsv\n",
            "coronavirus-related-host-genes.tsv.1  embed\n",
            "COVID19_clinical_trial_drugs.tsv      entity2src.tsv\n",
            "COVID19_clinical_trial_drugs.tsv.1    infer_drug.tsv\n",
            "covid19-host-genes.tsv\t\t      infer_drug.tsv.1\n",
            "covid19-host-genes.tsv.1\t      relation_glossary.tsv\n",
            "drkg.tar.gz\t\t\t      sample_data\n",
            "drkg.tar.gz.1\n"
          ],
          "name": "stdout"
        }
      ]
    },
    {
      "cell_type": "code",
      "metadata": {
        "id": "HX7SUIsSQrX4"
      },
      "source": [
        "# Load embeddings\n",
        "import torch as th\n",
        "entity_emb = np.load('embed/DRKG_TransE_l2_entity.npy')\n",
        "rel_emb = np.load('embed/DRKG_TransE_l2_relation.npy')\n",
        "\n",
        "drug_ids = th.tensor(drug_ids).long()\n",
        "disease_ids = th.tensor(disease_ids).long()\n",
        "treatment_rid = th.tensor(treatment_rid)\n",
        "\n",
        "drug_emb = th.tensor(entity_emb[drug_ids])\n",
        "treatment_embs = [th.tensor(rel_emb[rid]) for rid in treatment_rid]"
      ],
      "execution_count": 89,
      "outputs": []
    },
    {
      "cell_type": "code",
      "metadata": {
        "id": "M5qchQ5AYwb_",
        "colab": {
          "base_uri": "https://localhost:8080/"
        },
        "outputId": "b1a22741-ce77-4524-ecca-0ba638f66eb8"
      },
      "source": [
        "entity_emb.shape"
      ],
      "execution_count": 90,
      "outputs": [
        {
          "output_type": "execute_result",
          "data": {
            "text/plain": [
              "(97238, 400)"
            ]
          },
          "metadata": {
            "tags": []
          },
          "execution_count": 90
        }
      ]
    },
    {
      "cell_type": "markdown",
      "metadata": {
        "id": "gcssomRea608"
      },
      "source": [
        "## Drug Repurposing \n",
        "We use following algorithm to calculate the edge score. Note, here we use logsigmiod to make all scores < 0. The larger the score is, the stronger the $h$ will have $r$ with $t$.\n",
        "\n",
        "$\\mathbf{d} = \\gamma - ||\\mathbf{h}+\\mathbf{r}-\\mathbf{t}||_{2}$\n",
        "\n",
        "$\\mathbf{score} = \\log\\left(\\frac{1}{1+\\exp(\\mathbf{-d})}\\right)$\n",
        "\n",
        "When doing drug repurposing, here onlythe treatment related relations is used."
      ]
    },
    {
      "cell_type": "code",
      "metadata": {
        "id": "gDfmD8pnbD3h"
      },
      "source": [
        "import torch.nn.functional as fn\n",
        "\n",
        "gamma=12.0\n",
        "def transE_l2(head, rel, tail):\n",
        "    score = head + rel - tail\n",
        "    return gamma - th.norm(score, p=2, dim=-1)\n",
        "\n",
        "scores_per_disease = []\n",
        "dids = []\n",
        "for rid in range(len(treatment_embs)):\n",
        "    treatment_emb=treatment_embs[rid]\n",
        "    for disease_id in disease_ids:\n",
        "        disease_emb = entity_emb[disease_id]\n",
        "        score = fn.logsigmoid(transE_l2(drug_emb, treatment_emb, disease_emb))\n",
        "        scores_per_disease.append(score)\n",
        "        dids.append(drug_ids)\n",
        "scores = th.cat(scores_per_disease)\n",
        "dids = th.cat(dids)\n",
        "\n",
        "\n",
        "# sorting in descending order\n",
        "idx = th.flip(th.argsort(scores), dims=[0])\n",
        "scores = scores[idx].numpy()\n",
        "dids = dids[idx].numpy()\n",
        "\n",
        "# output prepration\n",
        "_, unique_indices = np.unique(dids, return_index=True)\n",
        "topk=10\n",
        "topk_indices = np.sort(unique_indices)[:topk]\n",
        "proposed_dids = dids[topk_indices]\n",
        "proposed_scores = scores[topk_indices]"
      ],
      "execution_count": 101,
      "outputs": []
    },
    {
      "cell_type": "markdown",
      "metadata": {
        "id": "3KiY2DrWdDf0"
      },
      "source": [
        "<p align=\"center\">\n",
        "  <img src=\"https://drive.google.com/uc?id=1cFpOqvm9sxmszV0Bctdg1BAbJvCFkRbg\" />\n",
        "</p>\n",
        "\n"
      ]
    },
    {
      "cell_type": "markdown",
      "metadata": {
        "id": "HL84g6CzDYH3"
      },
      "source": [
        "Now we list the pairs of in form of (drug, treat, disease, score)\n",
        "\n",
        "We select top K relevent drugs according the edge score"
      ]
    },
    {
      "cell_type": "code",
      "metadata": {
        "id": "tmfFbRhQDi1L",
        "colab": {
          "base_uri": "https://localhost:8080/"
        },
        "outputId": "a0a677ce-9527-4ef2-96b5-778c32e06b87"
      },
      "source": [
        "for i in range(topk):\n",
        "    drug = int(proposed_dids[i])\n",
        "    score = proposed_scores[i]\n",
        "    \n",
        "    print(\"{}\\t{}\".format(entity_id_map[drug], score))"
      ],
      "execution_count": 102,
      "outputs": [
        {
          "output_type": "stream",
          "text": [
            "Compound::DB00811\t-0.21416784822940826\n",
            "Compound::DB00993\t-0.8350892663002014\n",
            "Compound::DB00635\t-0.8974801898002625\n",
            "Compound::DB01082\t-0.9854875802993774\n",
            "Compound::DB01234\t-0.9984006881713867\n",
            "Compound::DB00982\t-1.0160715579986572\n",
            "Compound::DB00563\t-1.0189464092254639\n",
            "Compound::DB00290\t-1.0641038417816162\n",
            "Compound::DB01394\t-1.080674648284912\n",
            "Compound::DB01222\t-1.084547519683838\n"
          ],
          "name": "stdout"
        }
      ]
    },
    {
      "cell_type": "code",
      "metadata": {
        "colab": {
          "base_uri": "https://localhost:8080/"
        },
        "id": "BZ7xZagdgeTi",
        "outputId": "0284904d-5bad-434d-bf00-67ad3d9c747f"
      },
      "source": [
        "clinical_drugs_file = './COVID19_clinical_trial_drugs.tsv'\n",
        "clinical_drug_map = {}\n",
        "with open(clinical_drugs_file, newline='', encoding='utf-8') as csvfile:\n",
        "    reader = csv.DictReader(csvfile, delimiter='\\t', fieldnames=['id', 'drug_name','drug_id'])\n",
        "    for row_val in reader:\n",
        "        clinical_drug_map[row_val['drug_id']] = row_val['drug_name']\n",
        "\n",
        "\n",
        "for i in range(topk):\n",
        "    drug = entity_id_map[int(proposed_dids[i])][10:17]\n",
        "    if clinical_drug_map.get(drug, None) is not None:\n",
        "        score = proposed_scores[i]\n",
        "        print(\"[{}]\\t{}\\t{}\".format(i, clinical_drug_map[drug],score , proposed_scores[i]))\n",
        "\n",
        "\n",
        "## all codes available in dglke home page."
      ],
      "execution_count": 113,
      "outputs": [
        {
          "output_type": "stream",
          "text": [
            "[0]\tRibavirin\t-0.21416784822940826\n",
            "[4]\tDexamethasone\t-0.9984006881713867\n",
            "[8]\tColchicine\t-1.080674648284912\n"
          ],
          "name": "stdout"
        }
      ]
    },
    {
      "cell_type": "code",
      "metadata": {
        "id": "jbetcUwThJ03"
      },
      "source": [
        ""
      ],
      "execution_count": null,
      "outputs": []
    },
    {
      "cell_type": "markdown",
      "metadata": {
        "id": "IeK4aWzKfGjc"
      },
      "source": [
        "#Homework Clinical Trial Drugs \n",
        "* self study of embedding algorithm\n",
        "* run same code for clinical trial drugs\n",
        "* use the node_featurizer and edge_featurizer for drug repositioning\n"
      ]
    },
    {
      "cell_type": "code",
      "metadata": {
        "id": "HrgvuMXbPQhq"
      },
      "source": [
        ""
      ],
      "execution_count": null,
      "outputs": []
    }
  ]
}